{
 "cells": [
  {
   "cell_type": "code",
   "execution_count": 2,
   "metadata": {},
   "outputs": [],
   "source": [
    "import pandas as pd\n",
    "import numpy as np\n",
    "from sklearn.model_selection import train_test_split\n",
    "from sklearn.preprocessing import LabelEncoder, StandardScaler\n",
    "from sklearn.ensemble import RandomForestClassifier\n",
    "from xgboost import XGBClassifier\n",
    "from tensorflow.keras.models import Sequential\n",
    "from tensorflow.keras.layers import Dense, Dropout\n",
    "from sklearn.metrics import accuracy_score, classification_report"
   ]
  },
  {
   "cell_type": "code",
   "execution_count": 3,
   "metadata": {},
   "outputs": [
    {
     "data": {
      "text/html": [
       "<div>\n",
       "<style scoped>\n",
       "    .dataframe tbody tr th:only-of-type {\n",
       "        vertical-align: middle;\n",
       "    }\n",
       "\n",
       "    .dataframe tbody tr th {\n",
       "        vertical-align: top;\n",
       "    }\n",
       "\n",
       "    .dataframe thead th {\n",
       "        text-align: right;\n",
       "    }\n",
       "</style>\n",
       "<table border=\"1\" class=\"dataframe\">\n",
       "  <thead>\n",
       "    <tr style=\"text-align: right;\">\n",
       "      <th></th>\n",
       "      <th>date</th>\n",
       "      <th>month</th>\n",
       "      <th>year</th>\n",
       "      <th>route</th>\n",
       "      <th>time</th>\n",
       "      <th>day</th>\n",
       "      <th>location</th>\n",
       "      <th>incident</th>\n",
       "      <th>min delay</th>\n",
       "      <th>delay_type</th>\n",
       "      <th>min gap</th>\n",
       "      <th>vehicle</th>\n",
       "      <th>direction</th>\n",
       "    </tr>\n",
       "  </thead>\n",
       "  <tbody>\n",
       "    <tr>\n",
       "      <th>0</th>\n",
       "      <td>1</td>\n",
       "      <td>1</td>\n",
       "      <td>2023</td>\n",
       "      <td>69</td>\n",
       "      <td>02:34:00</td>\n",
       "      <td>Sunday</td>\n",
       "      <td>WARDEN STATION</td>\n",
       "      <td>Security</td>\n",
       "      <td>22</td>\n",
       "      <td>medium</td>\n",
       "      <td>44</td>\n",
       "      <td>8407</td>\n",
       "      <td>S</td>\n",
       "    </tr>\n",
       "    <tr>\n",
       "      <th>1</th>\n",
       "      <td>1</td>\n",
       "      <td>1</td>\n",
       "      <td>2023</td>\n",
       "      <td>35</td>\n",
       "      <td>03:06:00</td>\n",
       "      <td>Sunday</td>\n",
       "      <td>JANE STATION</td>\n",
       "      <td>Cleaning - Unsanitary</td>\n",
       "      <td>30</td>\n",
       "      <td>medium</td>\n",
       "      <td>60</td>\n",
       "      <td>1051</td>\n",
       "      <td>N</td>\n",
       "    </tr>\n",
       "    <tr>\n",
       "      <th>2</th>\n",
       "      <td>1</td>\n",
       "      <td>1</td>\n",
       "      <td>2023</td>\n",
       "      <td>52</td>\n",
       "      <td>04:25:00</td>\n",
       "      <td>Sunday</td>\n",
       "      <td>LAWRENCE AND YONGE</td>\n",
       "      <td>Emergency Services</td>\n",
       "      <td>30</td>\n",
       "      <td>medium</td>\n",
       "      <td>60</td>\n",
       "      <td>3520</td>\n",
       "      <td>E</td>\n",
       "    </tr>\n",
       "    <tr>\n",
       "      <th>3</th>\n",
       "      <td>1</td>\n",
       "      <td>1</td>\n",
       "      <td>2023</td>\n",
       "      <td>24</td>\n",
       "      <td>04:35:00</td>\n",
       "      <td>Sunday</td>\n",
       "      <td>DANFORTH AND MAIN</td>\n",
       "      <td>Cleaning - Unsanitary</td>\n",
       "      <td>20</td>\n",
       "      <td>medium</td>\n",
       "      <td>40</td>\n",
       "      <td>8404</td>\n",
       "      <td>W</td>\n",
       "    </tr>\n",
       "    <tr>\n",
       "      <th>4</th>\n",
       "      <td>1</td>\n",
       "      <td>1</td>\n",
       "      <td>2023</td>\n",
       "      <td>36</td>\n",
       "      <td>05:50:00</td>\n",
       "      <td>Sunday</td>\n",
       "      <td>FINCH STATION</td>\n",
       "      <td>Cleaning - Unsanitary</td>\n",
       "      <td>11</td>\n",
       "      <td>medium</td>\n",
       "      <td>26</td>\n",
       "      <td>3561</td>\n",
       "      <td>W</td>\n",
       "    </tr>\n",
       "  </tbody>\n",
       "</table>\n",
       "</div>"
      ],
      "text/plain": [
       "   date  month  year route      time     day            location  \\\n",
       "0     1      1  2023    69  02:34:00  Sunday      WARDEN STATION   \n",
       "1     1      1  2023    35  03:06:00  Sunday        JANE STATION   \n",
       "2     1      1  2023    52  04:25:00  Sunday  LAWRENCE AND YONGE   \n",
       "3     1      1  2023    24  04:35:00  Sunday   DANFORTH AND MAIN   \n",
       "4     1      1  2023    36  05:50:00  Sunday       FINCH STATION   \n",
       "\n",
       "                incident  min delay delay_type  min gap  vehicle direction  \n",
       "0               Security         22     medium       44     8407         S  \n",
       "1  Cleaning - Unsanitary         30     medium       60     1051         N  \n",
       "2     Emergency Services         30     medium       60     3520         E  \n",
       "3  Cleaning - Unsanitary         20     medium       40     8404         W  \n",
       "4  Cleaning - Unsanitary         11     medium       26     3561         W  "
      ]
     },
     "execution_count": 3,
     "metadata": {},
     "output_type": "execute_result"
    }
   ],
   "source": [
    "# Load dataset\n",
    "df = pd.read_excel(\"ttc_bus_delay_2023_Udanie.xlsx\")\n",
    "df.head()"
   ]
  },
  {
   "cell_type": "code",
   "execution_count": 4,
   "metadata": {},
   "outputs": [],
   "source": [
    "# Drop unnecessary columns if needed (e.g., 'year' might be redundant if all data is from 2023)\n",
    "df.drop(columns=['year'], inplace=True)\n",
    "\n",
    "# Define delay severity (classification target)\n",
    "def classify_delay(min_delay):\n",
    "    if min_delay < 10:\n",
    "        return \"short\"\n",
    "    elif 10 <= min_delay < 30:\n",
    "        return \"medium\"\n",
    "    else:\n",
    "        return \"long\"\n",
    "\n",
    "df['delay_severity'] = df['min delay'].apply(classify_delay)\n"
   ]
  },
  {
   "cell_type": "code",
   "execution_count": 6,
   "metadata": {},
   "outputs": [],
   "source": [
    "from sklearn.preprocessing import LabelEncoder\n",
    "\n",
    "le = LabelEncoder()\n",
    "for col in categorical_cols:\n",
    "    df[col] = df[col].astype(str)  # Convert to string before encoding\n",
    "    df[col] = le.fit_transform(df[col])\n",
    "\n",
    "df['delay_severity'] = df['delay_severity'].astype(str)  # Convert target column to string\n",
    "df['delay_severity'] = le.fit_transform(df['delay_severity'])\n"
   ]
  },
  {
   "cell_type": "code",
   "execution_count": 7,
   "metadata": {},
   "outputs": [],
   "source": [
    "# Selecting features and target\n",
    "X = df.drop(columns=['min delay', 'delay_severity'])  # Features\n",
    "y = df['delay_severity']  # Target variable"
   ]
  },
  {
   "cell_type": "code",
   "execution_count": 8,
   "metadata": {},
   "outputs": [],
   "source": [
    "# Splitting dataset into train and test sets\n",
    "X_train, X_test, y_train, y_test = train_test_split(X, y, test_size=0.2, random_state=42)"
   ]
  },
  {
   "cell_type": "code",
   "execution_count": 10,
   "metadata": {},
   "outputs": [
    {
     "name": "stdout",
     "output_type": "stream",
     "text": [
      "date           int64\n",
      "month          int64\n",
      "route          int64\n",
      "time          object\n",
      "day            int64\n",
      "location       int64\n",
      "incident       int64\n",
      "delay_type     int64\n",
      "min gap        int64\n",
      "vehicle        int64\n",
      "direction      int64\n",
      "dtype: object\n"
     ]
    }
   ],
   "source": [
    "print(X_train.dtypes)"
   ]
  },
  {
   "cell_type": "code",
   "execution_count": 12,
   "metadata": {},
   "outputs": [],
   "source": [
    "def time_to_seconds(t):\n",
    "    return t.hour * 3600 + t.minute * 60 + t.second\n",
    "\n",
    "X_train['time'] = X_train['time'].apply(time_to_seconds)\n",
    "X_test['time'] = X_test['time'].apply(time_to_seconds)"
   ]
  },
  {
   "cell_type": "code",
   "execution_count": 13,
   "metadata": {},
   "outputs": [],
   "source": [
    "# Scaling features\n",
    "scaler = StandardScaler()\n",
    "X_train = scaler.fit_transform(X_train)\n",
    "X_test = scaler.transform(X_test)"
   ]
  },
  {
   "cell_type": "code",
   "execution_count": 14,
   "metadata": {},
   "outputs": [],
   "source": [
    "# 1. Random Forest Classifier\n",
    "rf_model = RandomForestClassifier(n_estimators=100, random_state=42)\n",
    "rf_model.fit(X_train, y_train)\n",
    "rf_pred = rf_model.predict(X_test)"
   ]
  },
  {
   "cell_type": "code",
   "execution_count": 15,
   "metadata": {},
   "outputs": [],
   "source": [
    "# 2. XGBoost Classifier\n",
    "xgb_model = XGBClassifier(n_estimators=100, learning_rate=0.1, random_state=42)\n",
    "xgb_model.fit(X_train, y_train)\n",
    "xgb_pred = xgb_model.predict(X_test)"
   ]
  },
  {
   "cell_type": "code",
   "execution_count": 16,
   "metadata": {},
   "outputs": [
    {
     "name": "stderr",
     "output_type": "stream",
     "text": [
      "c:\\Users\\udani\\AppData\\Local\\Programs\\Python\\Python312\\Lib\\site-packages\\keras\\src\\layers\\core\\dense.py:87: UserWarning: Do not pass an `input_shape`/`input_dim` argument to a layer. When using Sequential models, prefer using an `Input(shape)` object as the first layer in the model instead.\n",
      "  super().__init__(activity_regularizer=activity_regularizer, **kwargs)\n"
     ]
    },
    {
     "name": "stdout",
     "output_type": "stream",
     "text": [
      "Epoch 1/10\n",
      "\u001b[1m1091/1091\u001b[0m \u001b[32m━━━━━━━━━━━━━━━━━━━━\u001b[0m\u001b[37m\u001b[0m \u001b[1m3s\u001b[0m 2ms/step - accuracy: 0.6948 - loss: 0.6355 - val_accuracy: 0.8021 - val_loss: 0.4025\n",
      "Epoch 2/10\n",
      "\u001b[1m1091/1091\u001b[0m \u001b[32m━━━━━━━━━━━━━━━━━━━━\u001b[0m\u001b[37m\u001b[0m \u001b[1m2s\u001b[0m 2ms/step - accuracy: 0.7863 - loss: 0.4165 - val_accuracy: 0.8342 - val_loss: 0.3704\n",
      "Epoch 3/10\n",
      "\u001b[1m1091/1091\u001b[0m \u001b[32m━━━━━━━━━━━━━━━━━━━━\u001b[0m\u001b[37m\u001b[0m \u001b[1m2s\u001b[0m 2ms/step - accuracy: 0.8190 - loss: 0.3730 - val_accuracy: 0.9243 - val_loss: 0.2884\n",
      "Epoch 4/10\n",
      "\u001b[1m1091/1091\u001b[0m \u001b[32m━━━━━━━━━━━━━━━━━━━━\u001b[0m\u001b[37m\u001b[0m \u001b[1m2s\u001b[0m 2ms/step - accuracy: 0.8745 - loss: 0.3032 - val_accuracy: 0.9538 - val_loss: 0.1927\n",
      "Epoch 5/10\n",
      "\u001b[1m1091/1091\u001b[0m \u001b[32m━━━━━━━━━━━━━━━━━━━━\u001b[0m\u001b[37m\u001b[0m \u001b[1m2s\u001b[0m 2ms/step - accuracy: 0.9391 - loss: 0.2042 - val_accuracy: 0.9717 - val_loss: 0.1369\n",
      "Epoch 6/10\n",
      "\u001b[1m1091/1091\u001b[0m \u001b[32m━━━━━━━━━━━━━━━━━━━━\u001b[0m\u001b[37m\u001b[0m \u001b[1m2s\u001b[0m 2ms/step - accuracy: 0.9573 - loss: 0.1658 - val_accuracy: 0.9732 - val_loss: 0.1178\n",
      "Epoch 7/10\n",
      "\u001b[1m1091/1091\u001b[0m \u001b[32m━━━━━━━━━━━━━━━━━━━━\u001b[0m\u001b[37m\u001b[0m \u001b[1m2s\u001b[0m 2ms/step - accuracy: 0.9662 - loss: 0.1385 - val_accuracy: 0.9750 - val_loss: 0.1045\n",
      "Epoch 8/10\n",
      "\u001b[1m1091/1091\u001b[0m \u001b[32m━━━━━━━━━━━━━━━━━━━━\u001b[0m\u001b[37m\u001b[0m \u001b[1m2s\u001b[0m 2ms/step - accuracy: 0.9701 - loss: 0.1229 - val_accuracy: 0.9765 - val_loss: 0.0987\n",
      "Epoch 9/10\n",
      "\u001b[1m1091/1091\u001b[0m \u001b[32m━━━━━━━━━━━━━━━━━━━━\u001b[0m\u001b[37m\u001b[0m \u001b[1m2s\u001b[0m 2ms/step - accuracy: 0.9716 - loss: 0.1134 - val_accuracy: 0.9743 - val_loss: 0.0952\n",
      "Epoch 10/10\n",
      "\u001b[1m1091/1091\u001b[0m \u001b[32m━━━━━━━━━━━━━━━━━━━━\u001b[0m\u001b[37m\u001b[0m \u001b[1m2s\u001b[0m 2ms/step - accuracy: 0.9720 - loss: 0.1110 - val_accuracy: 0.9766 - val_loss: 0.0939\n",
      "\u001b[1m273/273\u001b[0m \u001b[32m━━━━━━━━━━━━━━━━━━━━\u001b[0m\u001b[37m\u001b[0m \u001b[1m0s\u001b[0m 981us/step\n"
     ]
    }
   ],
   "source": [
    "# 4. Multi-Layer Perceptron (MLP - Neural Network)\n",
    "nn_model = Sequential([\n",
    "    Dense(64, activation='relu', input_shape=(X_train.shape[1],)),\n",
    "    Dropout(0.2),\n",
    "    Dense(32, activation='relu'),\n",
    "    Dropout(0.2),\n",
    "    Dense(3, activation='softmax')  # 3 output classes (short, medium, long)\n",
    "])\n",
    "\n",
    "nn_model.compile(optimizer='adam', loss='sparse_categorical_crossentropy', metrics=['accuracy'])\n",
    "nn_model.fit(X_train, y_train, epochs=10, batch_size=32, validation_data=(X_test, y_test))\n",
    "\n",
    "nn_pred = np.argmax(nn_model.predict(X_test), axis=1)"
   ]
  },
  {
   "cell_type": "code",
   "execution_count": 17,
   "metadata": {},
   "outputs": [
    {
     "name": "stdout",
     "output_type": "stream",
     "text": [
      "Random Forest Accuracy: 0.98\n",
      "              precision    recall  f1-score   support\n",
      "\n",
      "           0       0.99      0.92      0.95      1010\n",
      "           1       0.98      0.99      0.98      5626\n",
      "           2       0.98      0.97      0.98      2087\n",
      "\n",
      "    accuracy                           0.98      8723\n",
      "   macro avg       0.98      0.96      0.97      8723\n",
      "weighted avg       0.98      0.98      0.98      8723\n",
      "\n",
      "XGBoost Accuracy: 0.98\n",
      "              precision    recall  f1-score   support\n",
      "\n",
      "           0       0.99      0.93      0.96      1010\n",
      "           1       0.98      0.99      0.99      5626\n",
      "           2       0.98      0.99      0.98      2087\n",
      "\n",
      "    accuracy                           0.98      8723\n",
      "   macro avg       0.98      0.97      0.97      8723\n",
      "weighted avg       0.98      0.98      0.98      8723\n",
      "\n",
      "Neural Network (MLP) Accuracy: 0.98\n",
      "              precision    recall  f1-score   support\n",
      "\n",
      "           0       0.97      0.92      0.95      1010\n",
      "           1       0.98      0.99      0.98      5626\n",
      "           2       0.98      0.97      0.98      2087\n",
      "\n",
      "    accuracy                           0.98      8723\n",
      "   macro avg       0.98      0.96      0.97      8723\n",
      "weighted avg       0.98      0.98      0.98      8723\n",
      "\n"
     ]
    }
   ],
   "source": [
    "# Evaluating models\n",
    "def evaluate_model(name, y_true, y_pred):\n",
    "    print(f\"{name} Accuracy: {accuracy_score(y_true, y_pred):.2f}\")\n",
    "    print(classification_report(y_true, y_pred))\n",
    "\n",
    "evaluate_model(\"Random Forest\", y_test, rf_pred)\n",
    "evaluate_model(\"XGBoost\", y_test, xgb_pred)\n",
    "evaluate_model(\"Neural Network (MLP)\", y_test, nn_pred)"
   ]
  },
  {
   "cell_type": "code",
   "execution_count": null,
   "metadata": {},
   "outputs": [],
   "source": []
  }
 ],
 "metadata": {
  "kernelspec": {
   "display_name": "Python 3",
   "language": "python",
   "name": "python3"
  },
  "language_info": {
   "codemirror_mode": {
    "name": "ipython",
    "version": 3
   },
   "file_extension": ".py",
   "mimetype": "text/x-python",
   "name": "python",
   "nbconvert_exporter": "python",
   "pygments_lexer": "ipython3",
   "version": "3.12.1"
  }
 },
 "nbformat": 4,
 "nbformat_minor": 2
}
