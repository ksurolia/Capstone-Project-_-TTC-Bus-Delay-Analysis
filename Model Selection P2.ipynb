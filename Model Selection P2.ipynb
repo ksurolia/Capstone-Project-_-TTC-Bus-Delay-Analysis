{
 "cells": [
  {
   "cell_type": "code",
   "execution_count": null,
   "metadata": {},
   "outputs": [],
   "source": [
    "import pandas as pd\n",
    "import numpy as np\n",
    "from sklearn.model_selection import train_test_split\n",
    "from sklearn.preprocessing import LabelEncoder, StandardScaler\n",
    "from sklearn.ensemble import RandomForestRegressor\n",
    "from xgboost import XGBRegressor\n",
    "from tensorflow.keras.models import Sequential\n",
    "from tensorflow.keras.layers import LSTM, Dense, Dropout"
   ]
  },
  {
   "cell_type": "code",
   "execution_count": 21,
   "metadata": {},
   "outputs": [
    {
     "data": {
      "text/html": [
       "<div>\n",
       "<style scoped>\n",
       "    .dataframe tbody tr th:only-of-type {\n",
       "        vertical-align: middle;\n",
       "    }\n",
       "\n",
       "    .dataframe tbody tr th {\n",
       "        vertical-align: top;\n",
       "    }\n",
       "\n",
       "    .dataframe thead th {\n",
       "        text-align: right;\n",
       "    }\n",
       "</style>\n",
       "<table border=\"1\" class=\"dataframe\">\n",
       "  <thead>\n",
       "    <tr style=\"text-align: right;\">\n",
       "      <th></th>\n",
       "      <th>date</th>\n",
       "      <th>month</th>\n",
       "      <th>year</th>\n",
       "      <th>route</th>\n",
       "      <th>time</th>\n",
       "      <th>day</th>\n",
       "      <th>location</th>\n",
       "      <th>incident</th>\n",
       "      <th>min delay</th>\n",
       "      <th>delay_type</th>\n",
       "      <th>min gap</th>\n",
       "      <th>vehicle</th>\n",
       "      <th>direction</th>\n",
       "    </tr>\n",
       "  </thead>\n",
       "  <tbody>\n",
       "    <tr>\n",
       "      <th>0</th>\n",
       "      <td>1</td>\n",
       "      <td>1</td>\n",
       "      <td>2023</td>\n",
       "      <td>69</td>\n",
       "      <td>02:34:00</td>\n",
       "      <td>Sunday</td>\n",
       "      <td>WARDEN STATION</td>\n",
       "      <td>Security</td>\n",
       "      <td>22</td>\n",
       "      <td>medium</td>\n",
       "      <td>44</td>\n",
       "      <td>8407</td>\n",
       "      <td>S</td>\n",
       "    </tr>\n",
       "    <tr>\n",
       "      <th>1</th>\n",
       "      <td>1</td>\n",
       "      <td>1</td>\n",
       "      <td>2023</td>\n",
       "      <td>35</td>\n",
       "      <td>03:06:00</td>\n",
       "      <td>Sunday</td>\n",
       "      <td>JANE STATION</td>\n",
       "      <td>Cleaning - Unsanitary</td>\n",
       "      <td>30</td>\n",
       "      <td>medium</td>\n",
       "      <td>60</td>\n",
       "      <td>1051</td>\n",
       "      <td>N</td>\n",
       "    </tr>\n",
       "    <tr>\n",
       "      <th>2</th>\n",
       "      <td>1</td>\n",
       "      <td>1</td>\n",
       "      <td>2023</td>\n",
       "      <td>52</td>\n",
       "      <td>04:25:00</td>\n",
       "      <td>Sunday</td>\n",
       "      <td>LAWRENCE AND YONGE</td>\n",
       "      <td>Emergency Services</td>\n",
       "      <td>30</td>\n",
       "      <td>medium</td>\n",
       "      <td>60</td>\n",
       "      <td>3520</td>\n",
       "      <td>E</td>\n",
       "    </tr>\n",
       "    <tr>\n",
       "      <th>3</th>\n",
       "      <td>1</td>\n",
       "      <td>1</td>\n",
       "      <td>2023</td>\n",
       "      <td>24</td>\n",
       "      <td>04:35:00</td>\n",
       "      <td>Sunday</td>\n",
       "      <td>DANFORTH AND MAIN</td>\n",
       "      <td>Cleaning - Unsanitary</td>\n",
       "      <td>20</td>\n",
       "      <td>medium</td>\n",
       "      <td>40</td>\n",
       "      <td>8404</td>\n",
       "      <td>W</td>\n",
       "    </tr>\n",
       "    <tr>\n",
       "      <th>4</th>\n",
       "      <td>1</td>\n",
       "      <td>1</td>\n",
       "      <td>2023</td>\n",
       "      <td>36</td>\n",
       "      <td>05:50:00</td>\n",
       "      <td>Sunday</td>\n",
       "      <td>FINCH STATION</td>\n",
       "      <td>Cleaning - Unsanitary</td>\n",
       "      <td>11</td>\n",
       "      <td>medium</td>\n",
       "      <td>26</td>\n",
       "      <td>3561</td>\n",
       "      <td>W</td>\n",
       "    </tr>\n",
       "  </tbody>\n",
       "</table>\n",
       "</div>"
      ],
      "text/plain": [
       "   date  month  year route      time     day            location  \\\n",
       "0     1      1  2023    69  02:34:00  Sunday      WARDEN STATION   \n",
       "1     1      1  2023    35  03:06:00  Sunday        JANE STATION   \n",
       "2     1      1  2023    52  04:25:00  Sunday  LAWRENCE AND YONGE   \n",
       "3     1      1  2023    24  04:35:00  Sunday   DANFORTH AND MAIN   \n",
       "4     1      1  2023    36  05:50:00  Sunday       FINCH STATION   \n",
       "\n",
       "                incident  min delay delay_type  min gap  vehicle direction  \n",
       "0               Security         22     medium       44     8407         S  \n",
       "1  Cleaning - Unsanitary         30     medium       60     1051         N  \n",
       "2     Emergency Services         30     medium       60     3520         E  \n",
       "3  Cleaning - Unsanitary         20     medium       40     8404         W  \n",
       "4  Cleaning - Unsanitary         11     medium       26     3561         W  "
      ]
     },
     "execution_count": 21,
     "metadata": {},
     "output_type": "execute_result"
    }
   ],
   "source": [
    "# Load dataset\n",
    "df = pd.read_excel(\"ttc_bus_delay_2023_Udanie.xlsx\")\n",
    "df.head()"
   ]
  },
  {
   "cell_type": "code",
   "execution_count": null,
   "metadata": {},
   "outputs": [],
   "source": [
    "# Drop unnecessary columns if needed \n",
    "df.drop(columns=['year'], inplace=True)"
   ]
  },
  {
   "cell_type": "code",
   "execution_count": 23,
   "metadata": {},
   "outputs": [],
   "source": [
    "from sklearn.preprocessing import LabelEncoder\n",
    "\n",
    "le = LabelEncoder()\n",
    "for col in categorical_cols:\n",
    "    df[col] = df[col].astype(str)  # Convert everything to string\n",
    "    df[col] = le.fit_transform(df[col])"
   ]
  },
  {
   "cell_type": "code",
   "execution_count": 24,
   "metadata": {},
   "outputs": [],
   "source": [
    "# Encoding categorical variables\n",
    "categorical_cols = ['month', 'day', 'route', 'location', 'incident', 'delay_type', 'vehicle', 'direction']\n",
    "le = LabelEncoder()\n",
    "for col in categorical_cols:\n",
    "    df[col] = le.fit_transform(df[col])"
   ]
  },
  {
   "cell_type": "code",
   "execution_count": 25,
   "metadata": {},
   "outputs": [],
   "source": [
    "# Selecting features and target\n",
    "X = df.drop(columns=['min delay'])  # Features\n",
    "y = df['min delay']  # Target variable\n",
    "\n",
    "# Splitting dataset into train and test sets\n",
    "X_train, X_test, y_train, y_test = train_test_split(X, y, test_size=0.2, random_state=42)"
   ]
  },
  {
   "cell_type": "code",
   "execution_count": 26,
   "metadata": {},
   "outputs": [
    {
     "name": "stdout",
     "output_type": "stream",
     "text": [
      "date           int64\n",
      "month          int64\n",
      "route          int64\n",
      "time          object\n",
      "day            int64\n",
      "location       int64\n",
      "incident       int64\n",
      "delay_type     int64\n",
      "min gap        int64\n",
      "vehicle        int64\n",
      "direction      int64\n",
      "dtype: object\n"
     ]
    }
   ],
   "source": [
    "print(X_train.dtypes)\n"
   ]
  },
  {
   "cell_type": "code",
   "execution_count": 29,
   "metadata": {},
   "outputs": [
    {
     "name": "stdout",
     "output_type": "stream",
     "text": [
      "31300    22:24:00\n",
      "8166     09:29:00\n",
      "28896    21:06:00\n",
      "39738    09:03:00\n",
      "10381    09:29:00\n",
      "Name: time, dtype: object\n"
     ]
    }
   ],
   "source": [
    "print(X_train['time'].head())  # Replace 'time' with the actual column name"
   ]
  },
  {
   "cell_type": "code",
   "execution_count": 31,
   "metadata": {},
   "outputs": [],
   "source": [
    "X_train['time'] = pd.to_datetime(X_train['time'], format='%H:%M:%S').dt.time"
   ]
  },
  {
   "cell_type": "code",
   "execution_count": null,
   "metadata": {},
   "outputs": [],
   "source": [
    "# Scaling features\n",
    "scaler = StandardScaler()\n",
    "X_train = scaler.fit_transform(X_train)\n",
    "X_test = scaler.transform(X_test)"
   ]
  },
  {
   "cell_type": "code",
   "execution_count": 32,
   "metadata": {},
   "outputs": [],
   "source": [
    "X_train['time_seconds'] = X_train['time'].apply(lambda x: x.hour * 3600 + x.minute * 60 + x.second)\n",
    "X_test['time_seconds'] = X_test['time'].apply(lambda x: x.hour * 3600 + x.minute * 60 + x.second)\n"
   ]
  },
  {
   "cell_type": "code",
   "execution_count": 33,
   "metadata": {},
   "outputs": [],
   "source": [
    "X_train = X_train.drop(columns=['time'])\n",
    "X_test = X_test.drop(columns=['time'])"
   ]
  },
  {
   "cell_type": "code",
   "execution_count": 34,
   "metadata": {},
   "outputs": [],
   "source": [
    "scaler = StandardScaler()\n",
    "X_train = scaler.fit_transform(X_train)\n",
    "X_test = scaler.transform(X_test)\n"
   ]
  },
  {
   "cell_type": "code",
   "execution_count": 35,
   "metadata": {},
   "outputs": [],
   "source": [
    "# 1. Random Forest Regression\n",
    "rf_model = RandomForestRegressor(n_estimators=100, random_state=42)\n",
    "rf_model.fit(X_train, y_train)\n",
    "rf_pred = rf_model.predict(X_test)"
   ]
  },
  {
   "cell_type": "code",
   "execution_count": 36,
   "metadata": {},
   "outputs": [],
   "source": [
    "# 2. XGBoost Regression\n",
    "xgb_model = XGBRegressor(n_estimators=100, learning_rate=0.1, random_state=42)\n",
    "xgb_model.fit(X_train, y_train)\n",
    "xgb_pred = xgb_model.predict(X_test)"
   ]
  },
  {
   "cell_type": "code",
   "execution_count": 39,
   "metadata": {},
   "outputs": [
    {
     "name": "stdout",
     "output_type": "stream",
     "text": [
      "Epoch 1/10\n",
      "\u001b[1m1091/1091\u001b[0m \u001b[32m━━━━━━━━━━━━━━━━━━━━\u001b[0m\u001b[37m\u001b[0m \u001b[1m13s\u001b[0m 10ms/step - loss: 2400.2285 - val_loss: 1828.6562\n",
      "Epoch 2/10\n",
      "\u001b[1m1091/1091\u001b[0m \u001b[32m━━━━━━━━━━━━━━━━━━━━\u001b[0m\u001b[37m\u001b[0m \u001b[1m16s\u001b[0m 15ms/step - loss: 2470.3396 - val_loss: 1828.5933\n",
      "Epoch 3/10\n",
      "\u001b[1m1091/1091\u001b[0m \u001b[32m━━━━━━━━━━━━━━━━━━━━\u001b[0m\u001b[37m\u001b[0m \u001b[1m14s\u001b[0m 13ms/step - loss: 2118.7554 - val_loss: 1830.1263\n",
      "Epoch 4/10\n",
      "\u001b[1m1091/1091\u001b[0m \u001b[32m━━━━━━━━━━━━━━━━━━━━\u001b[0m\u001b[37m\u001b[0m \u001b[1m12s\u001b[0m 11ms/step - loss: 2403.3630 - val_loss: 1829.7362\n",
      "Epoch 5/10\n",
      "\u001b[1m1091/1091\u001b[0m \u001b[32m━━━━━━━━━━━━━━━━━━━━\u001b[0m\u001b[37m\u001b[0m \u001b[1m10s\u001b[0m 9ms/step - loss: 2525.5039 - val_loss: 1829.8413\n",
      "Epoch 6/10\n",
      "\u001b[1m1091/1091\u001b[0m \u001b[32m━━━━━━━━━━━━━━━━━━━━\u001b[0m\u001b[37m\u001b[0m \u001b[1m10s\u001b[0m 10ms/step - loss: 2604.8054 - val_loss: 1828.5317\n",
      "Epoch 7/10\n",
      "\u001b[1m1091/1091\u001b[0m \u001b[32m━━━━━━━━━━━━━━━━━━━━\u001b[0m\u001b[37m\u001b[0m \u001b[1m10s\u001b[0m 9ms/step - loss: 2332.6035 - val_loss: 1829.1705\n",
      "Epoch 8/10\n",
      "\u001b[1m1091/1091\u001b[0m \u001b[32m━━━━━━━━━━━━━━━━━━━━\u001b[0m\u001b[37m\u001b[0m \u001b[1m11s\u001b[0m 10ms/step - loss: 2491.0400 - val_loss: 1828.8405\n",
      "Epoch 9/10\n",
      "\u001b[1m1091/1091\u001b[0m \u001b[32m━━━━━━━━━━━━━━━━━━━━\u001b[0m\u001b[37m\u001b[0m \u001b[1m11s\u001b[0m 10ms/step - loss: 2539.3923 - val_loss: 1829.0071\n",
      "Epoch 10/10\n",
      "\u001b[1m1091/1091\u001b[0m \u001b[32m━━━━━━━━━━━━━━━━━━━━\u001b[0m\u001b[37m\u001b[0m \u001b[1m10s\u001b[0m 9ms/step - loss: 2565.0386 - val_loss: 1828.6151\n",
      "\u001b[1m273/273\u001b[0m \u001b[32m━━━━━━━━━━━━━━━━━━━━\u001b[0m\u001b[37m\u001b[0m \u001b[1m1s\u001b[0m 4ms/step\n"
     ]
    }
   ],
   "source": [
    "# 5. LSTM Model (Deep Learning)\n",
    "X_train_lstm = X_train.reshape((X_train.shape[0], X_train.shape[1], 1))\n",
    "X_test_lstm = X_test.reshape((X_test.shape[0], X_test.shape[1], 1))\n",
    "\n",
    "lstm_model = Sequential([\n",
    "    LSTM(50, return_sequences=True, input_shape=(X_train.shape[1], 1)),\n",
    "    Dropout(0.2),\n",
    "    LSTM(50),\n",
    "    Dropout(0.2),\n",
    "    Dense(1)\n",
    "])\n",
    "\n",
    "lstm_model.compile(optimizer='adam', loss='mse')\n",
    "lstm_model.fit(X_train_lstm, y_train, epochs=10, batch_size=32, validation_data=(X_test_lstm, y_test))\n",
    "\n",
    "lstm_pred = lstm_model.predict(X_test_lstm)"
   ]
  },
  {
   "cell_type": "code",
   "execution_count": 41,
   "metadata": {},
   "outputs": [
    {
     "name": "stdout",
     "output_type": "stream",
     "text": [
      "Epoch 1/10\n",
      "\u001b[1m1091/1091\u001b[0m \u001b[32m━━━━━━━━━━━━━━━━━━━━\u001b[0m\u001b[37m\u001b[0m \u001b[1m13s\u001b[0m 10ms/step - loss: 2224.4792 - val_loss: 1829.1262\n",
      "Epoch 2/10\n",
      "\u001b[1m1091/1091\u001b[0m \u001b[32m━━━━━━━━━━━━━━━━━━━━\u001b[0m\u001b[37m\u001b[0m \u001b[1m10s\u001b[0m 9ms/step - loss: 2161.0925 - val_loss: 1593.1658\n",
      "Epoch 3/10\n",
      "\u001b[1m1091/1091\u001b[0m \u001b[32m━━━━━━━━━━━━━━━━━━━━\u001b[0m\u001b[37m\u001b[0m \u001b[1m10s\u001b[0m 10ms/step - loss: 2044.8723 - val_loss: 1348.0713\n",
      "Epoch 4/10\n",
      "\u001b[1m1091/1091\u001b[0m \u001b[32m━━━━━━━━━━━━━━━━━━━━\u001b[0m\u001b[37m\u001b[0m \u001b[1m10s\u001b[0m 9ms/step - loss: 1924.7007 - val_loss: 1169.9684\n",
      "Epoch 5/10\n",
      "\u001b[1m1091/1091\u001b[0m \u001b[32m━━━━━━━━━━━━━━━━━━━━\u001b[0m\u001b[37m\u001b[0m \u001b[1m12s\u001b[0m 11ms/step - loss: 1582.3514 - val_loss: 1084.5065\n",
      "Epoch 6/10\n",
      "\u001b[1m1091/1091\u001b[0m \u001b[32m━━━━━━━━━━━━━━━━━━━━\u001b[0m\u001b[37m\u001b[0m \u001b[1m12s\u001b[0m 11ms/step - loss: 1342.7173 - val_loss: 921.5781\n",
      "Epoch 7/10\n",
      "\u001b[1m1091/1091\u001b[0m \u001b[32m━━━━━━━━━━━━━━━━━━━━\u001b[0m\u001b[37m\u001b[0m \u001b[1m12s\u001b[0m 11ms/step - loss: 1355.5210 - val_loss: 825.8176\n",
      "Epoch 8/10\n",
      "\u001b[1m1091/1091\u001b[0m \u001b[32m━━━━━━━━━━━━━━━━━━━━\u001b[0m\u001b[37m\u001b[0m \u001b[1m12s\u001b[0m 11ms/step - loss: 1175.9607 - val_loss: 749.0319\n",
      "Epoch 9/10\n",
      "\u001b[1m1091/1091\u001b[0m \u001b[32m━━━━━━━━━━━━━━━━━━━━\u001b[0m\u001b[37m\u001b[0m \u001b[1m11s\u001b[0m 10ms/step - loss: 1158.8524 - val_loss: 675.9986\n",
      "Epoch 10/10\n",
      "\u001b[1m1091/1091\u001b[0m \u001b[32m━━━━━━━━━━━━━━━━━━━━\u001b[0m\u001b[37m\u001b[0m \u001b[1m12s\u001b[0m 11ms/step - loss: 1224.7499 - val_loss: 613.0986\n",
      "\u001b[1m273/273\u001b[0m \u001b[32m━━━━━━━━━━━━━━━━━━━━\u001b[0m\u001b[37m\u001b[0m \u001b[1m1s\u001b[0m 4ms/step\n"
     ]
    }
   ],
   "source": [
    "# 6. GRU Model (Deep Learning)\n",
    "\n",
    "from tensorflow.keras.models import Sequential\n",
    "from tensorflow.keras.layers import GRU, Dense, Dropout\n",
    "\n",
    "gru_model = Sequential([\n",
    "    GRU(50, return_sequences=True, input_shape=(X_train.shape[1], 1)),\n",
    "    Dropout(0.2),\n",
    "    GRU(50),\n",
    "    Dropout(0.2),\n",
    "    Dense(1)\n",
    "])\n",
    "\n",
    "gru_model.compile(optimizer='adam', loss='mse')\n",
    "gru_model.fit(X_train_lstm, y_train, epochs=10, batch_size=32, validation_data=(X_test_lstm, y_test))\n",
    "\n",
    "gru_pred = gru_model.predict(X_test_lstm)"
   ]
  },
  {
   "cell_type": "code",
   "execution_count": 42,
   "metadata": {},
   "outputs": [
    {
     "name": "stdout",
     "output_type": "stream",
     "text": [
      "Random Forest - MAE: 1.15, MSE: 115.95\n",
      "XGBoost - MAE: 1.89, MSE: 215.43\n",
      "LSTM - MAE: 14.08, MSE: 1828.61\n",
      "GRU - MAE: 3.83, MSE: 613.10\n"
     ]
    }
   ],
   "source": [
    "# Evaluating models\n",
    "from sklearn.metrics import mean_absolute_error, mean_squared_error\n",
    "\n",
    "def evaluate_model(name, y_true, y_pred):\n",
    "    print(f\"{name} - MAE: {mean_absolute_error(y_true, y_pred):.2f}, MSE: {mean_squared_error(y_true, y_pred):.2f}\")\n",
    "\n",
    "evaluate_model(\"Random Forest\", y_test, rf_pred)\n",
    "evaluate_model(\"XGBoost\", y_test, xgb_pred)\n",
    "evaluate_model(\"LSTM\", y_test, lstm_pred.flatten())\n",
    "evaluate_model(\"GRU\", y_test, gru_pred.flatten())"
   ]
  },
  {
   "cell_type": "code",
   "execution_count": null,
   "metadata": {},
   "outputs": [],
   "source": []
  }
 ],
 "metadata": {
  "kernelspec": {
   "display_name": "Python 3",
   "language": "python",
   "name": "python3"
  },
  "language_info": {
   "codemirror_mode": {
    "name": "ipython",
    "version": 3
   },
   "file_extension": ".py",
   "mimetype": "text/x-python",
   "name": "python",
   "nbconvert_exporter": "python",
   "pygments_lexer": "ipython3",
   "version": "3.12.1"
  }
 },
 "nbformat": 4,
 "nbformat_minor": 2
}
